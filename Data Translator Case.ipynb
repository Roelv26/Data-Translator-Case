{
 "cells": [
  {
   "cell_type": "code",
   "execution_count": 1,
   "metadata": {},
   "outputs": [],
   "source": [
    "import pandas as pd\n",
    "pd.options.mode.chained_assignment = None\n",
    "import numpy as np\n",
    "import matplotlib.pyplot as plt\n",
    "%matplotlib inline\n",
    "import seaborn as sns\n",
    "sns.set()"
   ]
  },
  {
   "cell_type": "code",
   "execution_count": 2,
   "metadata": {},
   "outputs": [
    {
     "data": {
      "text/html": [
       "<div>\n",
       "<style scoped>\n",
       "    .dataframe tbody tr th:only-of-type {\n",
       "        vertical-align: middle;\n",
       "    }\n",
       "\n",
       "    .dataframe tbody tr th {\n",
       "        vertical-align: top;\n",
       "    }\n",
       "\n",
       "    .dataframe thead th {\n",
       "        text-align: right;\n",
       "    }\n",
       "</style>\n",
       "<table border=\"1\" class=\"dataframe\">\n",
       "  <thead>\n",
       "    <tr style=\"text-align: right;\">\n",
       "      <th></th>\n",
       "      <th>order_date</th>\n",
       "      <th>customer</th>\n",
       "      <th>productAgrupationID</th>\n",
       "      <th>productID</th>\n",
       "      <th>territory</th>\n",
       "      <th>product_cases_ordered</th>\n",
       "    </tr>\n",
       "  </thead>\n",
       "  <tbody>\n",
       "    <tr>\n",
       "      <th>0</th>\n",
       "      <td>2020-01-23T00:00:00.000Z</td>\n",
       "      <td>247474</td>\n",
       "      <td>1431.0</td>\n",
       "      <td>10159</td>\n",
       "      <td>262</td>\n",
       "      <td>28.76</td>\n",
       "    </tr>\n",
       "    <tr>\n",
       "      <th>1</th>\n",
       "      <td>2020-01-24T00:00:00.000Z</td>\n",
       "      <td>239611</td>\n",
       "      <td>1626.0</td>\n",
       "      <td>9968</td>\n",
       "      <td>263</td>\n",
       "      <td>28.76</td>\n",
       "    </tr>\n",
       "    <tr>\n",
       "      <th>2</th>\n",
       "      <td>2020-01-31T00:00:00.000Z</td>\n",
       "      <td>382014</td>\n",
       "      <td>1202.0</td>\n",
       "      <td>9864</td>\n",
       "      <td>279</td>\n",
       "      <td>28.76</td>\n",
       "    </tr>\n",
       "    <tr>\n",
       "      <th>3</th>\n",
       "      <td>2020-01-31T00:00:00.000Z</td>\n",
       "      <td>382014</td>\n",
       "      <td>1202.0</td>\n",
       "      <td>9863</td>\n",
       "      <td>279</td>\n",
       "      <td>28.76</td>\n",
       "    </tr>\n",
       "    <tr>\n",
       "      <th>4</th>\n",
       "      <td>2020-01-21T00:00:00.000Z</td>\n",
       "      <td>225565</td>\n",
       "      <td>1202.0</td>\n",
       "      <td>9864</td>\n",
       "      <td>263</td>\n",
       "      <td>28.76</td>\n",
       "    </tr>\n",
       "  </tbody>\n",
       "</table>\n",
       "</div>"
      ],
      "text/plain": [
       "                 order_date  customer  productAgrupationID  productID  \\\n",
       "0  2020-01-23T00:00:00.000Z    247474               1431.0      10159   \n",
       "1  2020-01-24T00:00:00.000Z    239611               1626.0       9968   \n",
       "2  2020-01-31T00:00:00.000Z    382014               1202.0       9864   \n",
       "3  2020-01-31T00:00:00.000Z    382014               1202.0       9863   \n",
       "4  2020-01-21T00:00:00.000Z    225565               1202.0       9864   \n",
       "\n",
       "   territory  product_cases_ordered  \n",
       "0        262                  28.76  \n",
       "1        263                  28.76  \n",
       "2        279                  28.76  \n",
       "3        279                  28.76  \n",
       "4        263                  28.76  "
      ]
     },
     "execution_count": 2,
     "metadata": {},
     "output_type": "execute_result"
    }
   ],
   "source": [
    "df = pd.read_csv('sampleData.csv')\n",
    "df.head()"
   ]
  },
  {
   "cell_type": "code",
   "execution_count": 3,
   "metadata": {},
   "outputs": [
    {
     "data": {
      "text/plain": [
       "order_date                object\n",
       "customer                   int64\n",
       "productAgrupationID      float64\n",
       "productID                  int64\n",
       "territory                  int64\n",
       "product_cases_ordered    float64\n",
       "dtype: object"
      ]
     },
     "execution_count": 3,
     "metadata": {},
     "output_type": "execute_result"
    }
   ],
   "source": [
    "df.dtypes"
   ]
  },
  {
   "cell_type": "code",
   "execution_count": 4,
   "metadata": {},
   "outputs": [
    {
     "data": {
      "text/plain": [
       "order_date               datetime64[ns, UTC]\n",
       "customer                              object\n",
       "productAgrupationID                   object\n",
       "productID                             object\n",
       "territory                             object\n",
       "product_cases_ordered                float64\n",
       "dtype: object"
      ]
     },
     "execution_count": 4,
     "metadata": {},
     "output_type": "execute_result"
    }
   ],
   "source": [
    "df['customer'] = df['customer'].astype(str)\n",
    "df['productAgrupationID'] = df['productAgrupationID'].astype(int).astype(str)\n",
    "df['productID'] = df['productID'].astype(str)\n",
    "df['territory'] = df['territory'].astype(str)\n",
    "df['order_date'] = pd.to_datetime(df['order_date'])\n",
    "df.sort_values(by=['order_date'], inplace=True)\n",
    "df.dtypes"
   ]
  },
  {
   "cell_type": "code",
   "execution_count": 5,
   "metadata": {},
   "outputs": [
    {
     "data": {
      "text/html": [
       "<div>\n",
       "<style scoped>\n",
       "    .dataframe tbody tr th:only-of-type {\n",
       "        vertical-align: middle;\n",
       "    }\n",
       "\n",
       "    .dataframe tbody tr th {\n",
       "        vertical-align: top;\n",
       "    }\n",
       "\n",
       "    .dataframe thead th {\n",
       "        text-align: right;\n",
       "    }\n",
       "</style>\n",
       "<table border=\"1\" class=\"dataframe\">\n",
       "  <thead>\n",
       "    <tr style=\"text-align: right;\">\n",
       "      <th></th>\n",
       "      <th>order_date</th>\n",
       "      <th>customer</th>\n",
       "      <th>productAgrupationID</th>\n",
       "      <th>productID</th>\n",
       "      <th>territory</th>\n",
       "      <th>product_cases_ordered</th>\n",
       "    </tr>\n",
       "  </thead>\n",
       "  <tbody>\n",
       "    <tr>\n",
       "      <th>60949</th>\n",
       "      <td>2020-01-02 00:00:00+00:00</td>\n",
       "      <td>247474</td>\n",
       "      <td>1117</td>\n",
       "      <td>1265</td>\n",
       "      <td>262</td>\n",
       "      <td>32.760</td>\n",
       "    </tr>\n",
       "    <tr>\n",
       "      <th>60942</th>\n",
       "      <td>2020-01-02 00:00:00+00:00</td>\n",
       "      <td>239566</td>\n",
       "      <td>1121</td>\n",
       "      <td>877</td>\n",
       "      <td>268</td>\n",
       "      <td>29.760</td>\n",
       "    </tr>\n",
       "    <tr>\n",
       "      <th>60944</th>\n",
       "      <td>2020-01-02 00:00:00+00:00</td>\n",
       "      <td>239566</td>\n",
       "      <td>1121</td>\n",
       "      <td>877</td>\n",
       "      <td>268</td>\n",
       "      <td>29.760</td>\n",
       "    </tr>\n",
       "    <tr>\n",
       "      <th>60945</th>\n",
       "      <td>2020-01-02 00:00:00+00:00</td>\n",
       "      <td>218167</td>\n",
       "      <td>1297</td>\n",
       "      <td>802</td>\n",
       "      <td>263</td>\n",
       "      <td>28.261</td>\n",
       "    </tr>\n",
       "    <tr>\n",
       "      <th>60946</th>\n",
       "      <td>2020-01-02 00:00:00+00:00</td>\n",
       "      <td>218167</td>\n",
       "      <td>1347</td>\n",
       "      <td>1333</td>\n",
       "      <td>263</td>\n",
       "      <td>28.759</td>\n",
       "    </tr>\n",
       "  </tbody>\n",
       "</table>\n",
       "</div>"
      ],
      "text/plain": [
       "                     order_date customer productAgrupationID productID  \\\n",
       "60949 2020-01-02 00:00:00+00:00   247474                1117      1265   \n",
       "60942 2020-01-02 00:00:00+00:00   239566                1121       877   \n",
       "60944 2020-01-02 00:00:00+00:00   239566                1121       877   \n",
       "60945 2020-01-02 00:00:00+00:00   218167                1297       802   \n",
       "60946 2020-01-02 00:00:00+00:00   218167                1347      1333   \n",
       "\n",
       "      territory  product_cases_ordered  \n",
       "60949       262                 32.760  \n",
       "60942       268                 29.760  \n",
       "60944       268                 29.760  \n",
       "60945       263                 28.261  \n",
       "60946       263                 28.759  "
      ]
     },
     "execution_count": 5,
     "metadata": {},
     "output_type": "execute_result"
    }
   ],
   "source": [
    "df.head()\n"
   ]
  },
  {
   "cell_type": "markdown",
   "metadata": {},
   "source": [
    "### (1) Identify the top five customers who placed the most orders in January."
   ]
  },
  {
   "cell_type": "code",
   "execution_count": 6,
   "metadata": {},
   "outputs": [
    {
     "data": {
      "text/plain": [
       "247474    1274\n",
       "488882    1210\n",
       "215932    1036\n",
       "235365     988\n",
       "214634     978\n",
       "Name: customer, dtype: int64"
      ]
     },
     "execution_count": 6,
     "metadata": {},
     "output_type": "execute_result"
    }
   ],
   "source": [
    "question1 = df[df['order_date'].dt.month == 1]\n",
    "top5 = question1['customer'].value_counts()[0:5]\n",
    "top5"
   ]
  },
  {
   "cell_type": "markdown",
   "metadata": {},
   "source": [
    "### (2) Determine the most popular productAgrupationID based on the total number of cases ordered."
   ]
  },
  {
   "cell_type": "code",
   "execution_count": 7,
   "metadata": {},
   "outputs": [
    {
     "data": {
      "text/html": [
       "<div>\n",
       "<style scoped>\n",
       "    .dataframe tbody tr th:only-of-type {\n",
       "        vertical-align: middle;\n",
       "    }\n",
       "\n",
       "    .dataframe tbody tr th {\n",
       "        vertical-align: top;\n",
       "    }\n",
       "\n",
       "    .dataframe thead th {\n",
       "        text-align: right;\n",
       "    }\n",
       "</style>\n",
       "<table border=\"1\" class=\"dataframe\">\n",
       "  <thead>\n",
       "    <tr style=\"text-align: right;\">\n",
       "      <th></th>\n",
       "      <th>product_cases_ordered</th>\n",
       "    </tr>\n",
       "    <tr>\n",
       "      <th>productAgrupationID</th>\n",
       "      <th></th>\n",
       "    </tr>\n",
       "  </thead>\n",
       "  <tbody>\n",
       "    <tr>\n",
       "      <th>1121</th>\n",
       "      <td>85.9k</td>\n",
       "    </tr>\n",
       "    <tr>\n",
       "      <th>1104</th>\n",
       "      <td>60.8k</td>\n",
       "    </tr>\n",
       "    <tr>\n",
       "      <th>1123</th>\n",
       "      <td>54.0k</td>\n",
       "    </tr>\n",
       "    <tr>\n",
       "      <th>1103</th>\n",
       "      <td>52.4k</td>\n",
       "    </tr>\n",
       "    <tr>\n",
       "      <th>1202</th>\n",
       "      <td>50.9k</td>\n",
       "    </tr>\n",
       "    <tr>\n",
       "      <th>1431</th>\n",
       "      <td>46.9k</td>\n",
       "    </tr>\n",
       "    <tr>\n",
       "      <th>1112</th>\n",
       "      <td>45.0k</td>\n",
       "    </tr>\n",
       "    <tr>\n",
       "      <th>1117</th>\n",
       "      <td>42.8k</td>\n",
       "    </tr>\n",
       "    <tr>\n",
       "      <th>1427</th>\n",
       "      <td>39.4k</td>\n",
       "    </tr>\n",
       "    <tr>\n",
       "      <th>1091</th>\n",
       "      <td>38.4k</td>\n",
       "    </tr>\n",
       "  </tbody>\n",
       "</table>\n",
       "</div>"
      ],
      "text/plain": [
       "                    product_cases_ordered\n",
       "productAgrupationID                      \n",
       "1121                                85.9k\n",
       "1104                                60.8k\n",
       "1123                                54.0k\n",
       "1103                                52.4k\n",
       "1202                                50.9k\n",
       "1431                                46.9k\n",
       "1112                                45.0k\n",
       "1117                                42.8k\n",
       "1427                                39.4k\n",
       "1091                                38.4k"
      ]
     },
     "execution_count": 7,
     "metadata": {},
     "output_type": "execute_result"
    }
   ],
   "source": [
    "piv1 = df.pivot_table(index = 'productAgrupationID', aggfunc=sum)\n",
    "piv1.sort_values(by='product_cases_ordered', inplace=True, ascending=False)\n",
    "piv1['product_cases_ordered'] = piv1['product_cases_ordered'].apply(lambda x: \"{:.1f}k\".format((x/1000)))\n",
    "piv1.head(10)"
   ]
  },
  {
   "cell_type": "markdown",
   "metadata": {},
   "source": [
    "### (3) Identify the most ordered product ID of each productAgrupationID"
   ]
  },
  {
   "cell_type": "code",
   "execution_count": 8,
   "metadata": {},
   "outputs": [
    {
     "name": "stdout",
     "output_type": "stream",
     "text": [
      "There are 223 different productAgrupationIDs\n"
     ]
    }
   ],
   "source": [
    "Prod_agg_IDs = df['productAgrupationID'].unique()\n",
    "print('There are {} different productAgrupationIDs'.format(len(Prod_agg_IDs)))"
   ]
  },
  {
   "cell_type": "code",
   "execution_count": 9,
   "metadata": {},
   "outputs": [],
   "source": [
    "def most_ord_prodID(df, productAgID):\n",
    "    df = df[df['productAgrupationID'] == productAgID]\n",
    "    pivot = df.pivot_table(index = 'productID', aggfunc=sum)\n",
    "    pivot.sort_values(by='product_cases_ordered', inplace=True, ascending=False)\n",
    "\n",
    "    return (productAgID,pivot.iloc[0].name)"
   ]
  },
  {
   "cell_type": "code",
   "execution_count": 10,
   "metadata": {},
   "outputs": [
    {
     "data": {
      "text/html": [
       "<div>\n",
       "<style scoped>\n",
       "    .dataframe tbody tr th:only-of-type {\n",
       "        vertical-align: middle;\n",
       "    }\n",
       "\n",
       "    .dataframe tbody tr th {\n",
       "        vertical-align: top;\n",
       "    }\n",
       "\n",
       "    .dataframe thead th {\n",
       "        text-align: right;\n",
       "    }\n",
       "</style>\n",
       "<table border=\"1\" class=\"dataframe\">\n",
       "  <thead>\n",
       "    <tr style=\"text-align: right;\">\n",
       "      <th></th>\n",
       "      <th>productAgrupationID</th>\n",
       "      <th>productID</th>\n",
       "    </tr>\n",
       "  </thead>\n",
       "  <tbody>\n",
       "    <tr>\n",
       "      <th>0</th>\n",
       "      <td>1117</td>\n",
       "      <td>977</td>\n",
       "    </tr>\n",
       "    <tr>\n",
       "      <th>1</th>\n",
       "      <td>1121</td>\n",
       "      <td>877</td>\n",
       "    </tr>\n",
       "    <tr>\n",
       "      <th>2</th>\n",
       "      <td>1297</td>\n",
       "      <td>802</td>\n",
       "    </tr>\n",
       "    <tr>\n",
       "      <th>3</th>\n",
       "      <td>1347</td>\n",
       "      <td>1333</td>\n",
       "    </tr>\n",
       "    <tr>\n",
       "      <th>4</th>\n",
       "      <td>1090</td>\n",
       "      <td>3064</td>\n",
       "    </tr>\n",
       "    <tr>\n",
       "      <th>...</th>\n",
       "      <td>...</td>\n",
       "      <td>...</td>\n",
       "    </tr>\n",
       "    <tr>\n",
       "      <th>218</th>\n",
       "      <td>1574</td>\n",
       "      <td>811</td>\n",
       "    </tr>\n",
       "    <tr>\n",
       "      <th>219</th>\n",
       "      <td>1429</td>\n",
       "      <td>5068</td>\n",
       "    </tr>\n",
       "    <tr>\n",
       "      <th>220</th>\n",
       "      <td>1455</td>\n",
       "      <td>4467</td>\n",
       "    </tr>\n",
       "    <tr>\n",
       "      <th>221</th>\n",
       "      <td>1417</td>\n",
       "      <td>14844</td>\n",
       "    </tr>\n",
       "    <tr>\n",
       "      <th>222</th>\n",
       "      <td>1061</td>\n",
       "      <td>6454</td>\n",
       "    </tr>\n",
       "  </tbody>\n",
       "</table>\n",
       "<p>223 rows × 2 columns</p>\n",
       "</div>"
      ],
      "text/plain": [
       "    productAgrupationID productID\n",
       "0                  1117       977\n",
       "1                  1121       877\n",
       "2                  1297       802\n",
       "3                  1347      1333\n",
       "4                  1090      3064\n",
       "..                  ...       ...\n",
       "218                1574       811\n",
       "219                1429      5068\n",
       "220                1455      4467\n",
       "221                1417     14844\n",
       "222                1061      6454\n",
       "\n",
       "[223 rows x 2 columns]"
      ]
     },
     "execution_count": 10,
     "metadata": {},
     "output_type": "execute_result"
    }
   ],
   "source": [
    "df2 = pd.DataFrame.from_records([most_ord_prodID(df, id) for id in Prod_agg_IDs], columns=['productAgrupationID', 'productID'])\n",
    "df2"
   ]
  },
  {
   "cell_type": "markdown",
   "metadata": {},
   "source": [
    "### (4) How does the sales volume vary across different territories?"
   ]
  },
  {
   "cell_type": "code",
   "execution_count": 11,
   "metadata": {},
   "outputs": [
    {
     "data": {
      "text/html": [
       "<div>\n",
       "<style scoped>\n",
       "    .dataframe tbody tr th:only-of-type {\n",
       "        vertical-align: middle;\n",
       "    }\n",
       "\n",
       "    .dataframe tbody tr th {\n",
       "        vertical-align: top;\n",
       "    }\n",
       "\n",
       "    .dataframe thead th {\n",
       "        text-align: right;\n",
       "    }\n",
       "</style>\n",
       "<table border=\"1\" class=\"dataframe\">\n",
       "  <thead>\n",
       "    <tr style=\"text-align: right;\">\n",
       "      <th></th>\n",
       "      <th>product_cases_ordered</th>\n",
       "    </tr>\n",
       "    <tr>\n",
       "      <th>territory</th>\n",
       "      <th></th>\n",
       "    </tr>\n",
       "  </thead>\n",
       "  <tbody>\n",
       "    <tr>\n",
       "      <th>263</th>\n",
       "      <td>663.8k</td>\n",
       "    </tr>\n",
       "    <tr>\n",
       "      <th>252</th>\n",
       "      <td>350.5k</td>\n",
       "    </tr>\n",
       "    <tr>\n",
       "      <th>245</th>\n",
       "      <td>169.4k</td>\n",
       "    </tr>\n",
       "    <tr>\n",
       "      <th>279</th>\n",
       "      <td>136.1k</td>\n",
       "    </tr>\n",
       "    <tr>\n",
       "      <th>262</th>\n",
       "      <td>114.0k</td>\n",
       "    </tr>\n",
       "    <tr>\n",
       "      <th>246</th>\n",
       "      <td>106.9k</td>\n",
       "    </tr>\n",
       "    <tr>\n",
       "      <th>250</th>\n",
       "      <td>85.3k</td>\n",
       "    </tr>\n",
       "    <tr>\n",
       "      <th>316</th>\n",
       "      <td>81.5k</td>\n",
       "    </tr>\n",
       "    <tr>\n",
       "      <th>301</th>\n",
       "      <td>58.8k</td>\n",
       "    </tr>\n",
       "    <tr>\n",
       "      <th>289</th>\n",
       "      <td>45.5k</td>\n",
       "    </tr>\n",
       "    <tr>\n",
       "      <th>264</th>\n",
       "      <td>44.6k</td>\n",
       "    </tr>\n",
       "    <tr>\n",
       "      <th>251</th>\n",
       "      <td>43.2k</td>\n",
       "    </tr>\n",
       "    <tr>\n",
       "      <th>286</th>\n",
       "      <td>38.2k</td>\n",
       "    </tr>\n",
       "    <tr>\n",
       "      <th>296</th>\n",
       "      <td>38.0k</td>\n",
       "    </tr>\n",
       "    <tr>\n",
       "      <th>248</th>\n",
       "      <td>23.3k</td>\n",
       "    </tr>\n",
       "    <tr>\n",
       "      <th>284</th>\n",
       "      <td>22.5k</td>\n",
       "    </tr>\n",
       "    <tr>\n",
       "      <th>268</th>\n",
       "      <td>20.3k</td>\n",
       "    </tr>\n",
       "    <tr>\n",
       "      <th>267</th>\n",
       "      <td>19.3k</td>\n",
       "    </tr>\n",
       "    <tr>\n",
       "      <th>247</th>\n",
       "      <td>19.3k</td>\n",
       "    </tr>\n",
       "    <tr>\n",
       "      <th>265</th>\n",
       "      <td>18.0k</td>\n",
       "    </tr>\n",
       "  </tbody>\n",
       "</table>\n",
       "</div>"
      ],
      "text/plain": [
       "          product_cases_ordered\n",
       "territory                      \n",
       "263                      663.8k\n",
       "252                      350.5k\n",
       "245                      169.4k\n",
       "279                      136.1k\n",
       "262                      114.0k\n",
       "246                      106.9k\n",
       "250                       85.3k\n",
       "316                       81.5k\n",
       "301                       58.8k\n",
       "289                       45.5k\n",
       "264                       44.6k\n",
       "251                       43.2k\n",
       "286                       38.2k\n",
       "296                       38.0k\n",
       "248                       23.3k\n",
       "284                       22.5k\n",
       "268                       20.3k\n",
       "267                       19.3k\n",
       "247                       19.3k\n",
       "265                       18.0k"
      ]
     },
     "execution_count": 11,
     "metadata": {},
     "output_type": "execute_result"
    },
    {
     "data": {
      "image/png": "[encoded data removed]",
      "text/plain": [
       "<Figure size 432x288 with 1 Axes>"
      ]
     },
     "metadata": {},
     "output_type": "display_data"
    },
    {
     "data": {
      "image/png": "[encoded data removed]",
      "text/plain": [
       "<Figure size 432x288 with 1 Axes>"
      ]
     },
     "metadata": {},
     "output_type": "display_data"
    }
   ],
   "source": [
    "piv2 = df.pivot_table(index = 'territory', aggfunc=sum)\n",
    "piv2.sort_values(by='product_cases_ordered', inplace=True, ascending=False)\n",
    "fig = piv2.plot.bar()\n",
    "fig2 = piv2.cumsum().plot.bar()\n",
    "piv2['product_cases_ordered'] = piv2['product_cases_ordered'].apply(lambda x: \"{:.1f}k\".format((x/1000)))\n",
    "piv2"
   ]
  },
  {
   "cell_type": "markdown",
   "metadata": {},
   "source": [
    "### (5) Are there any notable patterns or trends in the productAgrupationID with high sales volume?"
   ]
  },
  {
   "cell_type": "code",
   "execution_count": 12,
   "metadata": {},
   "outputs": [
    {
     "data": {
      "text/html": [
       "<div>\n",
       "<style scoped>\n",
       "    .dataframe tbody tr th:only-of-type {\n",
       "        vertical-align: middle;\n",
       "    }\n",
       "\n",
       "    .dataframe tbody tr th {\n",
       "        vertical-align: top;\n",
       "    }\n",
       "\n",
       "    .dataframe thead th {\n",
       "        text-align: right;\n",
       "    }\n",
       "</style>\n",
       "<table border=\"1\" class=\"dataframe\">\n",
       "  <thead>\n",
       "    <tr style=\"text-align: right;\">\n",
       "      <th></th>\n",
       "      <th>product_cases_ordered</th>\n",
       "    </tr>\n",
       "    <tr>\n",
       "      <th>productAgrupationID</th>\n",
       "      <th></th>\n",
       "    </tr>\n",
       "  </thead>\n",
       "  <tbody>\n",
       "    <tr>\n",
       "      <th>1121</th>\n",
       "      <td>85.9k</td>\n",
       "    </tr>\n",
       "    <tr>\n",
       "      <th>1104</th>\n",
       "      <td>60.8k</td>\n",
       "    </tr>\n",
       "    <tr>\n",
       "      <th>1123</th>\n",
       "      <td>54.0k</td>\n",
       "    </tr>\n",
       "    <tr>\n",
       "      <th>1103</th>\n",
       "      <td>52.4k</td>\n",
       "    </tr>\n",
       "    <tr>\n",
       "      <th>1202</th>\n",
       "      <td>50.9k</td>\n",
       "    </tr>\n",
       "    <tr>\n",
       "      <th>...</th>\n",
       "      <td>...</td>\n",
       "    </tr>\n",
       "    <tr>\n",
       "      <th>1061</th>\n",
       "      <td>0.0k</td>\n",
       "    </tr>\n",
       "    <tr>\n",
       "      <th>1281</th>\n",
       "      <td>0.0k</td>\n",
       "    </tr>\n",
       "    <tr>\n",
       "      <th>1603</th>\n",
       "      <td>0.0k</td>\n",
       "    </tr>\n",
       "    <tr>\n",
       "      <th>1531</th>\n",
       "      <td>0.0k</td>\n",
       "    </tr>\n",
       "    <tr>\n",
       "      <th>1429</th>\n",
       "      <td>0.0k</td>\n",
       "    </tr>\n",
       "  </tbody>\n",
       "</table>\n",
       "<p>223 rows × 1 columns</p>\n",
       "</div>"
      ],
      "text/plain": [
       "                    product_cases_ordered\n",
       "productAgrupationID                      \n",
       "1121                                85.9k\n",
       "1104                                60.8k\n",
       "1123                                54.0k\n",
       "1103                                52.4k\n",
       "1202                                50.9k\n",
       "...                                   ...\n",
       "1061                                 0.0k\n",
       "1281                                 0.0k\n",
       "1603                                 0.0k\n",
       "1531                                 0.0k\n",
       "1429                                 0.0k\n",
       "\n",
       "[223 rows x 1 columns]"
      ]
     },
     "execution_count": 12,
     "metadata": {},
     "output_type": "execute_result"
    },
    {
     "data": {
      "image/png": "[encoded data removed]",
      "text/plain": [
       "<Figure size 432x288 with 1 Axes>"
      ]
     },
     "metadata": {},
     "output_type": "display_data"
    },
    {
     "data": {
      "image/png": "[encoded data removed]",
      "text/plain": [
       "<Figure size 432x288 with 1 Axes>"
      ]
     },
     "metadata": {},
     "output_type": "display_data"
    }
   ],
   "source": [
    "\n",
    "piv3 = df.pivot_table(index = 'productAgrupationID', aggfunc=sum)\n",
    "piv3.sort_values(by='product_cases_ordered', inplace=True, ascending=False)\n",
    "fig3 = piv3[0:30].plot.bar()\n",
    "fig4 = piv3[0:30].cumsum().plot.bar()\n",
    "piv3['product_cases_ordered'] = piv3['product_cases_ordered'].apply(lambda x: \"{:.1f}k\".format((x/1000)))\n",
    "piv3"
   ]
  }
 ],
 "metadata": {
  "kernelspec": {
   "display_name": "base",
   "language": "python",
   "name": "python3"
  },
  "language_info": {
   "codemirror_mode": {
    "name": "ipython",
    "version": 3
   },
   "file_extension": ".py",
   "mimetype": "text/x-python",
   "name": "python",
   "nbconvert_exporter": "python",
   "pygments_lexer": "ipython3",
   "version": "3.9.7"
  }
 },
 "nbformat": 4,
 "nbformat_minor": 2
}
